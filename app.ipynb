{
 "cells": [
  {
   "attachments": {},
   "cell_type": "markdown",
   "metadata": {},
   "source": [
    "# Valuation App - simple valuation model \n",
    "## Notebook for developing model\n",
    "\n",
    "Import one stock from yahoo finance, calculate value based on simplified discounted free cashflow model."
   ]
  },
  {
   "attachments": {},
   "cell_type": "markdown",
   "metadata": {},
   "source": [
    "### Imports and setup"
   ]
  },
  {
   "cell_type": "code",
   "execution_count": 1,
   "metadata": {},
   "outputs": [],
   "source": [
    "import app_fin_kit as afk\n",
    "\n",
    "import numpy_financial as npf\n",
    "import yfinance as yf\n",
    "import numpy as np\n",
    "import pandas as pd\n",
    "\n",
    "%load_ext autoreload\n",
    "%autoreload 2"
   ]
  },
  {
   "attachments": {},
   "cell_type": "markdown",
   "metadata": {},
   "source": [
    "### Build in yfinance api calls as input\n",
    "\n",
    "which data is needed?\n",
    "- data to calculate cashflows for most recent year: \n",
    "    - ebit, effective tax rate, change working capital, capital expenditures, d&a\n",
    "- wacc: take this as a given for the moment\n",
    "- share price\n",
    "- number of shares\n",
    "- total debt\n",
    "- cash\n",
    "- name\n",
    "- reinvestment rate: take this as given for the moment, implicitly in cashflows"
   ]
  },
  {
   "cell_type": "code",
   "execution_count": 3,
   "metadata": {},
   "outputs": [],
   "source": [
    "st = yf.Ticker(\"COLR.BR\")"
   ]
  },
  {
   "cell_type": "code",
   "execution_count": 4,
   "metadata": {},
   "outputs": [
    {
     "data": {
      "text/plain": [
       "{'zip': '1500',\n",
       " 'sector': 'Consumer Defensive',\n",
       " 'fullTimeEmployees': 32000,\n",
       " 'longBusinessSummary': 'Etn. Fr. Colruyt NV, together with its subsidiaries, engages in the retail, wholesale, food service, and other activities in Belgium, France, and internationally. It operates through three segments: Retail, Wholesale and Foodservice, and Other Activities. The company operates CNG and hydrogen filling stations; provides printing and document management solutions; and develops, constructs, operates, and finances wind energy projects. In addition, the company provides fresh products, dry food, and frozen and non-food products. It provides its products and services to wholesalers, commercial customers, and affiliated independent merchants, as well as, schools, care homes, the hospitality sector, etc. The company was founded in 1928 and is headquartered in Halle, Belgium.',\n",
       " 'city': 'Halle',\n",
       " 'phone': '32 2 363 55 45',\n",
       " 'country': 'Belgium',\n",
       " 'companyOfficers': [],\n",
       " 'website': 'https://www.colruytgroup.com',\n",
       " 'maxAge': 1,\n",
       " 'address1': 'Edingensesteenweg 196',\n",
       " 'industry': 'Grocery Stores',\n",
       " 'address2': 'Wilgenveld',\n",
       " 'ebitdaMargins': 0.058870003,\n",
       " 'profitMargins': 0.02078,\n",
       " 'grossMargins': 0.26323998,\n",
       " 'operatingCashflow': 408300000,\n",
       " 'revenueGrowth': 0.057,\n",
       " 'operatingMargins': 0.028099999,\n",
       " 'ebitda': 608400000,\n",
       " 'targetLowPrice': 17,\n",
       " 'recommendationKey': 'hold',\n",
       " 'grossProfits': 2669100000,\n",
       " 'freeCashflow': -170924992,\n",
       " 'targetMedianPrice': 22,\n",
       " 'currentPrice': 21.35,\n",
       " 'earningsGrowth': -0.427,\n",
       " 'currentRatio': 0.716,\n",
       " 'returnOnAssets': 0.031659998,\n",
       " 'numberOfAnalystOpinions': 10,\n",
       " 'targetMeanPrice': 22.73,\n",
       " 'debtToEquity': 58.483,\n",
       " 'returnOnEquity': 0.088999994,\n",
       " 'targetHighPrice': 29,\n",
       " 'totalCash': 414400000,\n",
       " 'totalDebt': 1405699968,\n",
       " 'totalRevenue': 10334499840,\n",
       " 'totalCashPerShare': 3.259,\n",
       " 'financialCurrency': 'EUR',\n",
       " 'revenuePerShare': 79.466,\n",
       " 'quickRatio': 0.415,\n",
       " 'recommendationMean': 3.4,\n",
       " 'exchange': 'BRU',\n",
       " 'shortName': 'COLRUYT',\n",
       " 'longName': 'Etn. Fr. Colruyt NV',\n",
       " 'exchangeTimezoneName': 'Europe/Brussels',\n",
       " 'exchangeTimezoneShortName': 'CET',\n",
       " 'isEsgPopulated': False,\n",
       " 'gmtOffSetMilliseconds': '3600000',\n",
       " 'quoteType': 'EQUITY',\n",
       " 'symbol': 'COLR.BR',\n",
       " 'messageBoardId': 'finmb_876797',\n",
       " 'market': 'be_market',\n",
       " 'annualHoldingsTurnover': None,\n",
       " 'enterpriseToRevenue': 0.363,\n",
       " 'beta3Year': None,\n",
       " 'enterpriseToEbitda': 6.16,\n",
       " '52WeekChange': -0.42371076,\n",
       " 'morningStarRiskRating': None,\n",
       " 'forwardEps': 1.7,\n",
       " 'revenueQuarterlyGrowth': None,\n",
       " 'sharesOutstanding': 134078000,\n",
       " 'fundInceptionDate': None,\n",
       " 'annualReportExpenseRatio': None,\n",
       " 'totalAssets': None,\n",
       " 'bookValue': 18.903,\n",
       " 'sharesShort': None,\n",
       " 'sharesPercentSharesOut': None,\n",
       " 'fundFamily': None,\n",
       " 'lastFiscalYearEnd': 1648684800,\n",
       " 'heldPercentInstitutions': 0.09202,\n",
       " 'netIncomeToCommon': 214800000,\n",
       " 'trailingEps': 1.64,\n",
       " 'lastDividendValue': 1.1,\n",
       " 'SandP52WeekChange': -0.19671148,\n",
       " 'priceToBook': 1.1294503,\n",
       " 'heldPercentInsiders': 0.59962004,\n",
       " 'nextFiscalYearEnd': 1711843200,\n",
       " 'yield': None,\n",
       " 'mostRecentQuarter': 1664496000,\n",
       " 'shortRatio': None,\n",
       " 'sharesShortPreviousMonthDate': None,\n",
       " 'floatShares': 118474410,\n",
       " 'beta': 0.074813,\n",
       " 'enterpriseValue': 3747938304,\n",
       " 'priceHint': 2,\n",
       " 'threeYearAverageReturn': None,\n",
       " 'lastSplitDate': 1287100800,\n",
       " 'lastSplitFactor': '5:1',\n",
       " 'legalType': None,\n",
       " 'lastDividendDate': 1664496000,\n",
       " 'morningStarOverallRating': None,\n",
       " 'earningsQuarterlyGrowth': -0.449,\n",
       " 'priceToSalesTrailing12Months': 0.2769912,\n",
       " 'dateShortInterest': None,\n",
       " 'pegRatio': -1.05,\n",
       " 'ytdReturn': None,\n",
       " 'forwardPE': 12.558824,\n",
       " 'lastCapGain': None,\n",
       " 'shortPercentOfFloat': None,\n",
       " 'sharesShortPriorMonth': None,\n",
       " 'impliedSharesOutstanding': 0,\n",
       " 'category': None,\n",
       " 'fiveYearAverageReturn': None,\n",
       " 'previousClose': 21.68,\n",
       " 'regularMarketOpen': 21.85,\n",
       " 'twoHundredDayAverage': 28.5261,\n",
       " 'trailingAnnualDividendYield': 0.050738007,\n",
       " 'payoutRatio': 0.6707,\n",
       " 'volume24Hr': None,\n",
       " 'regularMarketDayHigh': 21.87,\n",
       " 'navPrice': None,\n",
       " 'averageDailyVolume10Day': 411386,\n",
       " 'regularMarketPreviousClose': 21.68,\n",
       " 'fiftyDayAverage': 24.2548,\n",
       " 'trailingAnnualDividendRate': 1.1,\n",
       " 'open': 21.85,\n",
       " 'toCurrency': None,\n",
       " 'averageVolume10days': 411386,\n",
       " 'expireDate': None,\n",
       " 'algorithm': None,\n",
       " 'dividendRate': 1.1,\n",
       " 'exDividendDate': 1664496000,\n",
       " 'circulatingSupply': None,\n",
       " 'startDate': None,\n",
       " 'regularMarketDayLow': 21.29,\n",
       " 'currency': 'EUR',\n",
       " 'trailingPE': 13.018293,\n",
       " 'regularMarketVolume': 116853,\n",
       " 'lastMarket': None,\n",
       " 'maxSupply': None,\n",
       " 'openInterest': None,\n",
       " 'marketCap': 2862565376,\n",
       " 'volumeAllCurrencies': None,\n",
       " 'strikePrice': None,\n",
       " 'averageVolume': 289603,\n",
       " 'dayLow': 21.29,\n",
       " 'ask': 0,\n",
       " 'askSize': 0,\n",
       " 'volume': 116853,\n",
       " 'fiftyTwoWeekHigh': 41.02,\n",
       " 'fromCurrency': None,\n",
       " 'fiveYearAvgDividendYield': 2.98,\n",
       " 'fiftyTwoWeekLow': 19.71,\n",
       " 'bid': 0,\n",
       " 'tradeable': False,\n",
       " 'dividendYield': 0.0507,\n",
       " 'bidSize': 0,\n",
       " 'dayHigh': 21.87,\n",
       " 'coinMarketCapLink': None,\n",
       " 'regularMarketPrice': 21.35,\n",
       " 'preMarketPrice': None,\n",
       " 'logo_url': 'https://logo.clearbit.com/colruytgroup.com',\n",
       " 'trailingPegRatio': None}"
      ]
     },
     "execution_count": 4,
     "metadata": {},
     "output_type": "execute_result"
    }
   ],
   "source": [
    "st.info"
   ]
  },
  {
   "cell_type": "code",
   "execution_count": 2,
   "metadata": {},
   "outputs": [
    {
     "data": {
      "text/plain": [
       "ModelInputs(company_name='COLRUYT', wacc=0.08, free_cashflows_last_12_months=224775000.0, growth_short_term=0.05, growth_long_term=0.02, n_years_short_term=5, n_shares=118474410, total_debt_book_value=684900000.0, cash=304200000.0, price_per_share=21.35, marginal_tax_rate=0.25)"
      ]
     },
     "execution_count": 2,
     "metadata": {},
     "output_type": "execute_result"
    }
   ],
   "source": [
    "model_data = afk.initialize_yahoo_finance_inputs('COLR.BR')\n",
    "model_data"
   ]
  },
  {
   "cell_type": "code",
   "execution_count": 5,
   "metadata": {},
   "outputs": [
    {
     "data": {
      "text/plain": [
       "4096413216.145833"
      ]
     },
     "execution_count": 5,
     "metadata": {},
     "output_type": "execute_result"
    }
   ],
   "source": [
    "afk.equity_market_value_from_enterprise_value(model_data)"
   ]
  },
  {
   "cell_type": "code",
   "execution_count": 6,
   "metadata": {},
   "outputs": [
    {
     "data": {
      "text/plain": [
       "[224775000.0, 236013750.0, 247814437.5, 260205159.37500003, 273215417.34375006]"
      ]
     },
     "execution_count": 6,
     "metadata": {},
     "output_type": "execute_result"
    }
   ],
   "source": [
    "projected_cashflows = afk.project_cashflows(model_data)\n",
    "projected_cashflows"
   ]
  },
  {
   "cell_type": "code",
   "execution_count": 7,
   "metadata": {},
   "outputs": [
    {
     "data": {
      "text/plain": [
       "4644662094.843751"
      ]
     },
     "execution_count": 7,
     "metadata": {},
     "output_type": "execute_result"
    }
   ],
   "source": [
    "terminal_value = afk.terminal_value_from_final_projected_cashflow(model_data)\n",
    "terminal_value"
   ]
  },
  {
   "cell_type": "code",
   "execution_count": 8,
   "metadata": {},
   "outputs": [
    {
     "data": {
      "text/plain": [
       "[224775000.0, 236013750.0, 247814437.5, 260205159.37500003, 4917877512.187501]"
      ]
     },
     "execution_count": 8,
     "metadata": {},
     "output_type": "execute_result"
    }
   ],
   "source": [
    "total_cashflows = afk.add_terminal_value_to_projected_cashflows(model_data)\n",
    "total_cashflows"
   ]
  },
  {
   "cell_type": "code",
   "execution_count": 9,
   "metadata": {},
   "outputs": [
    {
     "data": {
      "text/plain": [
       "4477113216.145833"
      ]
     },
     "execution_count": 9,
     "metadata": {},
     "output_type": "execute_result"
    }
   ],
   "source": [
    "discounted_cashflows = afk.discount_projected_cashflows(model_data)\n",
    "discounted_cashflows\n",
    "enterprise_value = discounted_cashflows\n",
    "enterprise_value"
   ]
  },
  {
   "cell_type": "code",
   "execution_count": 10,
   "metadata": {},
   "outputs": [
    {
     "name": "stdout",
     "output_type": "stream",
     "text": [
      "equity market value: $4,096,413,216\n"
     ]
    }
   ],
   "source": [
    "equity_market_value = afk.equity_market_value_from_enterprise_value(model_data)\n",
    "print(f'equity market value: ${equity_market_value:,.0f}')"
   ]
  },
  {
   "cell_type": "code",
   "execution_count": 11,
   "metadata": {},
   "outputs": [
    {
     "data": {
      "text/plain": [
       "0.5948503063591317"
      ]
     },
     "execution_count": 11,
     "metadata": {},
     "output_type": "execute_result"
    }
   ],
   "source": [
    "value_price_ratio = afk.value_price_ratio_from_value_per_share(model_data)\n",
    "value_price_ratio"
   ]
  },
  {
   "cell_type": "code",
   "execution_count": 14,
   "metadata": {},
   "outputs": [
    {
     "name": "stdout",
     "output_type": "stream",
     "text": [
      "***** COLRUYT - valuation report: *****\n",
      "Value per share: €34.58\n",
      "Price per share: €21.68\n",
      "The shares of COLRUYT are 59.49% undervalued.\n"
     ]
    }
   ],
   "source": [
    "afk.display_valuation_report(ticker='COLR.BR', print_output=True)"
   ]
  },
  {
   "cell_type": "code",
   "execution_count": null,
   "metadata": {},
   "outputs": [],
   "source": []
  }
 ],
 "metadata": {
  "kernelspec": {
   "display_name": "venv",
   "language": "python",
   "name": "python3"
  },
  "language_info": {
   "codemirror_mode": {
    "name": "ipython",
    "version": 3
   },
   "file_extension": ".py",
   "mimetype": "text/x-python",
   "name": "python",
   "nbconvert_exporter": "python",
   "pygments_lexer": "ipython3",
   "version": "3.9.13"
  },
  "orig_nbformat": 4,
  "vscode": {
   "interpreter": {
    "hash": "3db8e5133dd33981abdc4aa7b8cffb514686b2143a14f51cbc909945a931d46c"
   }
  }
 },
 "nbformat": 4,
 "nbformat_minor": 2
}
