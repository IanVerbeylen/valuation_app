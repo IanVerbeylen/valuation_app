{
 "cells": [
  {
   "attachments": {},
   "cell_type": "markdown",
   "metadata": {},
   "source": [
    "# Valuation App - simple valuation model \n",
    "## Notebook for developing model\n",
    "\n",
    "Import one stock from yahoo finance, calculate value based on simplified discounted free cashflow model."
   ]
  },
  {
   "attachments": {},
   "cell_type": "markdown",
   "metadata": {},
   "source": [
    "### Imports and setup"
   ]
  },
  {
   "cell_type": "code",
   "execution_count": 1,
   "metadata": {},
   "outputs": [],
   "source": [
    "import app_fin_kit as afk\n",
    "\n",
    "import numpy_financial as npf\n",
    "import yfinance as yf\n",
    "import numpy as np\n",
    "import pandas as pd\n",
    "\n",
    "%load_ext autoreload\n",
    "%autoreload 2"
   ]
  },
  {
   "attachments": {},
   "cell_type": "markdown",
   "metadata": {},
   "source": [
    "### Build in yfinance api calls as input\n",
    "\n",
    "which data is needed?\n",
    "- data to calculate cashflows for most recent year: \n",
    "    - ebit, effective tax rate, change working capital, capital expenditures, d&a\n",
    "- wacc: take this as a given for the moment\n",
    "- share price\n",
    "- number of shares\n",
    "- total debt\n",
    "- cash\n",
    "- name\n",
    "- reinvestment rate: take this as given for the moment, implicitly in cashflows"
   ]
  },
  {
   "cell_type": "code",
   "execution_count": 4,
   "metadata": {},
   "outputs": [
    {
     "data": {
      "text/plain": [
       "ModelInputs(company_name='COLRUYT', wacc=0.08, free_cashflows_last_12_months=224775000.0, growth_short_term=0.05, growth_long_term=0.02, n_years_short_term=5, n_shares=118474410, total_debt_book_value=684900000.0, cash=304200000.0, price_per_share=21.68, marginal_tax_rate=0.25)"
      ]
     },
     "execution_count": 4,
     "metadata": {},
     "output_type": "execute_result"
    }
   ],
   "source": [
    "model_data = afk.initialize_yahoo_finance_inputs('COLR.BR')\n",
    "model_data"
   ]
  },
  {
   "cell_type": "code",
   "execution_count": 5,
   "metadata": {},
   "outputs": [
    {
     "data": {
      "text/plain": [
       "4096413216.145833"
      ]
     },
     "execution_count": 5,
     "metadata": {},
     "output_type": "execute_result"
    }
   ],
   "source": [
    "afk.equity_market_value_from_enterprise_value(model_data)"
   ]
  },
  {
   "cell_type": "code",
   "execution_count": 6,
   "metadata": {},
   "outputs": [
    {
     "data": {
      "text/plain": [
       "[224775000.0, 236013750.0, 247814437.5, 260205159.37500003, 273215417.34375006]"
      ]
     },
     "execution_count": 6,
     "metadata": {},
     "output_type": "execute_result"
    }
   ],
   "source": [
    "projected_cashflows = afk.project_cashflows(model_data)\n",
    "projected_cashflows"
   ]
  },
  {
   "cell_type": "code",
   "execution_count": 7,
   "metadata": {},
   "outputs": [
    {
     "data": {
      "text/plain": [
       "4644662094.843751"
      ]
     },
     "execution_count": 7,
     "metadata": {},
     "output_type": "execute_result"
    }
   ],
   "source": [
    "terminal_value = afk.terminal_value_from_final_projected_cashflow(model_data)\n",
    "terminal_value"
   ]
  },
  {
   "cell_type": "code",
   "execution_count": 8,
   "metadata": {},
   "outputs": [
    {
     "data": {
      "text/plain": [
       "[224775000.0, 236013750.0, 247814437.5, 260205159.37500003, 4917877512.187501]"
      ]
     },
     "execution_count": 8,
     "metadata": {},
     "output_type": "execute_result"
    }
   ],
   "source": [
    "total_cashflows = afk.add_terminal_value_to_projected_cashflows(model_data)\n",
    "total_cashflows"
   ]
  },
  {
   "cell_type": "code",
   "execution_count": 9,
   "metadata": {},
   "outputs": [
    {
     "data": {
      "text/plain": [
       "4477113216.145833"
      ]
     },
     "execution_count": 9,
     "metadata": {},
     "output_type": "execute_result"
    }
   ],
   "source": [
    "discounted_cashflows = afk.discount_projected_cashflows(model_data)\n",
    "discounted_cashflows\n",
    "enterprise_value = discounted_cashflows\n",
    "enterprise_value"
   ]
  },
  {
   "cell_type": "code",
   "execution_count": 10,
   "metadata": {},
   "outputs": [
    {
     "name": "stdout",
     "output_type": "stream",
     "text": [
      "equity market value: $4,096,413,216\n"
     ]
    }
   ],
   "source": [
    "equity_market_value = afk.equity_market_value_from_enterprise_value(model_data)\n",
    "print(f'equity market value: ${equity_market_value:,.0f}')"
   ]
  },
  {
   "cell_type": "code",
   "execution_count": 11,
   "metadata": {},
   "outputs": [
    {
     "data": {
      "text/plain": [
       "0.5948503063591317"
      ]
     },
     "execution_count": 11,
     "metadata": {},
     "output_type": "execute_result"
    }
   ],
   "source": [
    "value_price_ratio = afk.value_price_ratio_from_value_per_share(model_data)\n",
    "value_price_ratio"
   ]
  },
  {
   "cell_type": "code",
   "execution_count": 14,
   "metadata": {},
   "outputs": [
    {
     "name": "stdout",
     "output_type": "stream",
     "text": [
      "***** COLRUYT - valuation report: *****\n",
      "Value per share: €34.58\n",
      "Price per share: €21.68\n",
      "The shares of COLRUYT are 59.49% undervalued.\n"
     ]
    }
   ],
   "source": [
    "afk.display_valuation_report(ticker='COLR.BR', print_output=True)"
   ]
  },
  {
   "cell_type": "code",
   "execution_count": null,
   "metadata": {},
   "outputs": [],
   "source": []
  }
 ],
 "metadata": {
  "kernelspec": {
   "display_name": "venv",
   "language": "python",
   "name": "python3"
  },
  "language_info": {
   "codemirror_mode": {
    "name": "ipython",
    "version": 3
   },
   "file_extension": ".py",
   "mimetype": "text/x-python",
   "name": "python",
   "nbconvert_exporter": "python",
   "pygments_lexer": "ipython3",
   "version": "3.9.13"
  },
  "orig_nbformat": 4,
  "vscode": {
   "interpreter": {
    "hash": "3db8e5133dd33981abdc4aa7b8cffb514686b2143a14f51cbc909945a931d46c"
   }
  }
 },
 "nbformat": 4,
 "nbformat_minor": 2
}
